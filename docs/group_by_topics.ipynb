{
 "cells": [
  {
   "cell_type": "code",
   "execution_count": 1,
   "metadata": {},
   "outputs": [],
   "source": [
    "%load_ext autoreload\n",
    "%autoreload 2"
   ]
  },
  {
   "attachments": {},
   "cell_type": "markdown",
   "metadata": {},
   "source": [
    "# Grouping Data Samples by Topic Data"
   ]
  },
  {
   "cell_type": "code",
   "execution_count": 7,
   "metadata": {},
   "outputs": [],
   "source": [
    "from nomic import AtlasProject\n",
    "proj = AtlasProject(project_id = \"change me\")"
   ]
  },
  {
   "attachments": {},
   "cell_type": "markdown",
   "metadata": {},
   "source": [
    "## Download tiles\n",
    "\n",
    "We can download all the tiles by grabbing the first projection, and then using the `web_tile_data` method to\n",
    "return a table of all data for the tile. This step is a scalable and performant method for fetching topic labels per data sample. By default, these files are stored in `~/.nomic/cache`.\n",
    "\n",
    "Dowloading these files only needs to happen once. You can avoid redownloading and rewriting the tiles by setting\n",
    "`overwrite = False`."
   ]
  },
  {
   "cell_type": "code",
   "execution_count": 28,
   "metadata": {},
   "outputs": [],
   "source": [
    "tb = proj.indices[0].projections[0].web_tile_data(overwrite=True)"
   ]
  },
  {
   "attachments": {},
   "cell_type": "markdown",
   "metadata": {},
   "source": [
    "## Viewing data\n",
    "\n",
    "Now we can access some of the Atlas-generated data. Topics are stored at `_topic_depth_1`, `_topic_depth_2`, etc.\n",
    "\n",
    "ID fields that you supplied are stored according to their name--in this set, it is 'id_'. Data you uploaded that\n",
    "wasn't used for visualization (like text fields) will not be included here, but any date or categorical fields will be.\n",
    "\n",
    "The data is returned as an Apache Arrow table: you may want to use the `to_pandas()` or `to_pylist()` method to put it\n",
    "in a more familiar format."
   ]
  },
  {
   "cell_type": "code",
   "execution_count": 29,
   "metadata": {},
   "outputs": [
    {
     "data": {
      "text/html": [
       "<div>\n",
       "<style scoped>\n",
       "    .dataframe tbody tr th:only-of-type {\n",
       "        vertical-align: middle;\n",
       "    }\n",
       "\n",
       "    .dataframe tbody tr th {\n",
       "        vertical-align: top;\n",
       "    }\n",
       "\n",
       "    .dataframe thead th {\n",
       "        text-align: right;\n",
       "    }\n",
       "</style>\n",
       "<table border=\"1\" class=\"dataframe\">\n",
       "  <thead>\n",
       "    <tr style=\"text-align: right;\">\n",
       "      <th></th>\n",
       "      <th>id_</th>\n",
       "      <th>_topic_depth_1</th>\n",
       "      <th>_duplicate_class</th>\n",
       "    </tr>\n",
       "  </thead>\n",
       "  <tbody>\n",
       "    <tr>\n",
       "      <th>0</th>\n",
       "      <td>00001524-17ea-4424-9c9a-da114648b11d</td>\n",
       "      <td>Imagining and reasoning about consciousness</td>\n",
       "      <td>retention candidate</td>\n",
       "    </tr>\n",
       "    <tr>\n",
       "      <th>1</th>\n",
       "      <td>0007f8c6-f3a3-47f3-a9ba-5314266b5b6f</td>\n",
       "      <td>Hypothesis</td>\n",
       "      <td>singleton</td>\n",
       "    </tr>\n",
       "    <tr>\n",
       "      <th>2</th>\n",
       "      <td>001af751-d4c5-4029-a2b3-da1045f6a331</td>\n",
       "      <td>Hypothesis</td>\n",
       "      <td>singleton</td>\n",
       "    </tr>\n",
       "    <tr>\n",
       "      <th>3</th>\n",
       "      <td>001b2c8b-b054-46cb-b75f-5f1bbdf3adb2</td>\n",
       "      <td>Sentences</td>\n",
       "      <td>singleton</td>\n",
       "    </tr>\n",
       "    <tr>\n",
       "      <th>4</th>\n",
       "      <td>0020c06b-f5d8-49f1-84b1-7f8c773617b9</td>\n",
       "      <td>Verifiable Claims</td>\n",
       "      <td>singleton</td>\n",
       "    </tr>\n",
       "    <tr>\n",
       "      <th>...</th>\n",
       "      <td>...</td>\n",
       "      <td>...</td>\n",
       "      <td>...</td>\n",
       "    </tr>\n",
       "    <tr>\n",
       "      <th>183843</th>\n",
       "      <td>fc29b66a-1819-4484-877c-b65fab78b60f</td>\n",
       "      <td>Thinking about thinking</td>\n",
       "      <td>singleton</td>\n",
       "    </tr>\n",
       "    <tr>\n",
       "      <th>183844</th>\n",
       "      <td>fe2a707e-0aad-427f-b096-16e5ef072ec3</td>\n",
       "      <td>Thinking about thinking</td>\n",
       "      <td>singleton</td>\n",
       "    </tr>\n",
       "    <tr>\n",
       "      <th>183845</th>\n",
       "      <td>fe658d3b-a845-44b8-8887-31283d26605e</td>\n",
       "      <td>Thinking about thinking</td>\n",
       "      <td>singleton</td>\n",
       "    </tr>\n",
       "    <tr>\n",
       "      <th>183846</th>\n",
       "      <td>ff8029ab-16e3-43b0-bf0c-109bc8b0a7e4</td>\n",
       "      <td>Thinking about thinking</td>\n",
       "      <td>singleton</td>\n",
       "    </tr>\n",
       "    <tr>\n",
       "      <th>183847</th>\n",
       "      <td>ffbcdb2f-527a-42a2-bd0c-c8df110277d3</td>\n",
       "      <td>Thinking about thinking</td>\n",
       "      <td>singleton</td>\n",
       "    </tr>\n",
       "  </tbody>\n",
       "</table>\n",
       "<p>183848 rows × 3 columns</p>\n",
       "</div>"
      ],
      "text/plain": [
       "                                         id_  \\\n",
       "0       00001524-17ea-4424-9c9a-da114648b11d   \n",
       "1       0007f8c6-f3a3-47f3-a9ba-5314266b5b6f   \n",
       "2       001af751-d4c5-4029-a2b3-da1045f6a331   \n",
       "3       001b2c8b-b054-46cb-b75f-5f1bbdf3adb2   \n",
       "4       0020c06b-f5d8-49f1-84b1-7f8c773617b9   \n",
       "...                                      ...   \n",
       "183843  fc29b66a-1819-4484-877c-b65fab78b60f   \n",
       "183844  fe2a707e-0aad-427f-b096-16e5ef072ec3   \n",
       "183845  fe658d3b-a845-44b8-8887-31283d26605e   \n",
       "183846  ff8029ab-16e3-43b0-bf0c-109bc8b0a7e4   \n",
       "183847  ffbcdb2f-527a-42a2-bd0c-c8df110277d3   \n",
       "\n",
       "                                     _topic_depth_1     _duplicate_class  \n",
       "0       Imagining and reasoning about consciousness  retention candidate  \n",
       "1                                        Hypothesis            singleton  \n",
       "2                                        Hypothesis            singleton  \n",
       "3                                         Sentences            singleton  \n",
       "4                                 Verifiable Claims            singleton  \n",
       "...                                             ...                  ...  \n",
       "183843                      Thinking about thinking            singleton  \n",
       "183844                      Thinking about thinking            singleton  \n",
       "183845                      Thinking about thinking            singleton  \n",
       "183846                      Thinking about thinking            singleton  \n",
       "183847                      Thinking about thinking            singleton  \n",
       "\n",
       "[183848 rows x 3 columns]"
      ]
     },
     "execution_count": 29,
     "metadata": {},
     "output_type": "execute_result"
    }
   ],
   "source": [
    "import pyarrow as pa\n",
    "tb.select(['_id', '_topic_depth_1']).to_pandas()"
   ]
  },
  {
   "attachments": {},
   "cell_type": "markdown",
   "metadata": {},
   "source": [
    "## Grouping by Topics\n",
    "\n",
    "We provide a method `group_by_topic` in our Projection API to return a list of topic dictionaries. Under the hood, we are performing group operations on the web tile data found above.\n",
    "\n",
    "Each dictionary contains topic metadata including description, subtopics, etc., as well as a list of `datum_ids` that fall the topic.\n",
    "As our topics are hierarchical, you can change which topic depth to group on using the `topic_depth` parameter; the greater the topic depth the more specific the topic. "
   ]
  },
  {
   "cell_type": "code",
   "execution_count": null,
   "metadata": {},
   "outputs": [],
   "source": [
    "proj.indices[0].projections[0].group_by_topic(topic_depth=1)"
   ]
  }
 ],
 "metadata": {
  "kernelspec": {
   "display_name": "Python 3 (ipykernel)",
   "language": "python",
   "name": "python3"
  },
  "language_info": {
   "codemirror_mode": {
    "name": "ipython",
    "version": 3
   },
   "file_extension": ".py",
   "mimetype": "text/x-python",
   "name": "python",
   "nbconvert_exporter": "python",
   "pygments_lexer": "ipython3",
   "version": "3.9.6"
  }
 },
 "nbformat": 4,
 "nbformat_minor": 2
}
