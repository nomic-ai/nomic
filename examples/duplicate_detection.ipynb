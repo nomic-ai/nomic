{
 "cells": [
  {
   "attachments": {},
   "cell_type": "markdown",
   "metadata": {},
   "source": [
    "## Duplicate Detection\n",
    "\n",
    "Atlas can automatically infer the presence of duplicates in your dataset based on textual\n",
    "similarity. "
   ]
  },
  {
   "cell_type": "code",
   "execution_count": 9,
   "metadata": {},
   "outputs": [],
   "source": [
    "%load_ext autoreload\n",
    "%autoreload 2"
   ]
  },
  {
   "cell_type": "code",
   "execution_count": 10,
   "metadata": {},
   "outputs": [],
   "source": [
    "import random\n",
    "def story():\n",
    "  # Procedurally generate a short story.\n",
    "  characters = ['John', 'Mary', 'Alice', 'John', 'Micah', 'Harrison']\n",
    "  places = ['the kitchen', 'the living room', 'the garden', 'the bathroom', 'the kitchen', 'the kitchen']\n",
    "  verbs = ['ate', 'prayed for', 'loved', 'ate', 'ate', 'ate']\n",
    "  objects = ['apples', 'bananas', 'spaghetti', 'the cake', 'apples', 'bananas', '']\n",
    "  relationships = ['spouse', 'spouse', 'child', 'child']\n",
    "  conclusions = [\n",
    "    'Before they finished, a bear burst in and ate them.',\n",
    "    'Everyone lived happily ever after.',\n",
    "    'They all lived happily ever after.',\n",
    "  ]\n",
    "  char1 = random.choice(characters)\n",
    "  char2 = random.choice(characters)\n",
    "  while char1 == char2:\n",
    "    char2 = random.choice(characters)\n",
    "  place = random.choice(places)\n",
    "  verb1 = random.choice(verbs)\n",
    "  verb2 = random.choice(verbs)\n",
    "  relation = random.choice(relationships)\n",
    "\n",
    "  story = f\"\"\"\n",
    "  Once upon a time, {char1} lived with their {relation} {char2}.\n",
    "  {char1} {verb1} {random.choice(objects)} in {place}.\n",
    "  {char2} sat in {place} and {verb2} {random.choice(objects)}.\n",
    "  {random.choice(conclusions)}\n",
    "  \"\"\"\n",
    "  return story\n",
    "\n",
    "stories = [\n",
    "  {\"id\": str(i), \"story\": story()} for i in range(200)\n",
    "]    "
   ]
  },
  {
   "cell_type": "code",
   "execution_count": 23,
   "metadata": {},
   "outputs": [
    {
     "name": "stderr",
     "output_type": "stream",
     "text": [
      "2023-06-20 01:18:58.566 | INFO     | nomic.project:_create_project:1116 - Creating project `productive-gong` in organization `bmschmidt`\n",
      "2023-06-20 01:19:01.164 | INFO     | nomic.atlas:map_text:214 - Uploading text to Atlas.\n",
      "1it [00:00,  1.09it/s]\n",
      "2023-06-20 01:19:02.090 | INFO     | nomic.project:_add_data:1737 - Upload succeeded.\n",
      "2023-06-20 01:19:02.091 | INFO     | nomic.atlas:map_text:230 - Text upload succeeded.\n",
      "2023-06-20 01:19:03.320 | INFO     | nomic.project:create_index:1443 - Created map `productive-gong` in project `productive-gong`: https://atlas.nomic.ai/map/4309d7c3-e4a4-4e70-868a-d6fbd8d344db/05733867-c62d-46b1-aeb0-bcd1766c95b4\n",
      "2023-06-20 01:19:03.321 | INFO     | nomic.atlas:map_text:246 - productive-gong: https://atlas.nomic.ai/map/4309d7c3-e4a4-4e70-868a-d6fbd8d344db/05733867-c62d-46b1-aeb0-bcd1766c95b4\n"
     ]
    }
   ],
   "source": [
    "from nomic import atlas\n",
    "proj = atlas.map_text(stories, indexed_field = 'story', id_field='id', duplicate_detection=True)"
   ]
  },
  {
   "cell_type": "code",
   "execution_count": 24,
   "metadata": {},
   "outputs": [
    {
     "name": "stderr",
     "output_type": "stream",
     "text": [
      "2023-06-20 01:19:03.681 | INFO     | nomic.project:wait_for_project_lock:1237 - productive-gong: Waiting for Project Lock Release.\n"
     ]
    }
   ],
   "source": [
    "with proj.wait_for_project_lock():\n",
    "    proj.id"
   ]
  },
  {
   "cell_type": "code",
   "execution_count": 27,
   "metadata": {},
   "outputs": [
    {
     "data": {
      "text/plain": [
       "===Atlas Duplicates for (productive-gong: https://atlas.nomic.ai/map/4309d7c3-e4a4-4e70-868a-d6fbd8d344db/05733867-c62d-46b1-aeb0-bcd1766c95b4)===\n",
       "123 deletion candidates in 77 clusters\n",
       "      id     _duplicate_class  _cluster_id\n",
       "0      0  retention candidate            3\n",
       "1      1  retention candidate           27\n",
       "2     10  retention candidate           16\n",
       "3    100   deletion candidate            0\n",
       "4    101   deletion candidate            1\n",
       "..   ...                  ...          ...\n",
       "195   95   deletion candidate            2\n",
       "196   96   deletion candidate            1\n",
       "197   97   deletion candidate            0\n",
       "198   98   deletion candidate            7\n",
       "199   99            singleton           61\n",
       "\n",
       "[200 rows x 3 columns]"
      ]
     },
     "execution_count": 27,
     "metadata": {},
     "output_type": "execute_result"
    }
   ],
   "source": [
    "proj.maps[0].duplicates"
   ]
  },
  {
   "attachments": {},
   "cell_type": "markdown",
   "metadata": {},
   "source": [
    "You can access the underlying data as a pandas dataframe using the `df` attribute."
   ]
  },
  {
   "cell_type": "code",
   "execution_count": 28,
   "metadata": {},
   "outputs": [
    {
     "data": {
      "text/html": [
       "<div>\n",
       "<style scoped>\n",
       "    .dataframe tbody tr th:only-of-type {\n",
       "        vertical-align: middle;\n",
       "    }\n",
       "\n",
       "    .dataframe tbody tr th {\n",
       "        vertical-align: top;\n",
       "    }\n",
       "\n",
       "    .dataframe thead th {\n",
       "        text-align: right;\n",
       "    }\n",
       "</style>\n",
       "<table border=\"1\" class=\"dataframe\">\n",
       "  <thead>\n",
       "    <tr style=\"text-align: right;\">\n",
       "      <th></th>\n",
       "      <th>id</th>\n",
       "      <th>_duplicate_class</th>\n",
       "      <th>_cluster_id</th>\n",
       "    </tr>\n",
       "  </thead>\n",
       "  <tbody>\n",
       "    <tr>\n",
       "      <th>0</th>\n",
       "      <td>0</td>\n",
       "      <td>retention candidate</td>\n",
       "      <td>3</td>\n",
       "    </tr>\n",
       "    <tr>\n",
       "      <th>1</th>\n",
       "      <td>1</td>\n",
       "      <td>retention candidate</td>\n",
       "      <td>27</td>\n",
       "    </tr>\n",
       "    <tr>\n",
       "      <th>2</th>\n",
       "      <td>10</td>\n",
       "      <td>retention candidate</td>\n",
       "      <td>16</td>\n",
       "    </tr>\n",
       "    <tr>\n",
       "      <th>3</th>\n",
       "      <td>100</td>\n",
       "      <td>deletion candidate</td>\n",
       "      <td>0</td>\n",
       "    </tr>\n",
       "    <tr>\n",
       "      <th>4</th>\n",
       "      <td>101</td>\n",
       "      <td>deletion candidate</td>\n",
       "      <td>1</td>\n",
       "    </tr>\n",
       "    <tr>\n",
       "      <th>...</th>\n",
       "      <td>...</td>\n",
       "      <td>...</td>\n",
       "      <td>...</td>\n",
       "    </tr>\n",
       "    <tr>\n",
       "      <th>195</th>\n",
       "      <td>95</td>\n",
       "      <td>deletion candidate</td>\n",
       "      <td>2</td>\n",
       "    </tr>\n",
       "    <tr>\n",
       "      <th>196</th>\n",
       "      <td>96</td>\n",
       "      <td>deletion candidate</td>\n",
       "      <td>1</td>\n",
       "    </tr>\n",
       "    <tr>\n",
       "      <th>197</th>\n",
       "      <td>97</td>\n",
       "      <td>deletion candidate</td>\n",
       "      <td>0</td>\n",
       "    </tr>\n",
       "    <tr>\n",
       "      <th>198</th>\n",
       "      <td>98</td>\n",
       "      <td>deletion candidate</td>\n",
       "      <td>7</td>\n",
       "    </tr>\n",
       "    <tr>\n",
       "      <th>199</th>\n",
       "      <td>99</td>\n",
       "      <td>singleton</td>\n",
       "      <td>61</td>\n",
       "    </tr>\n",
       "  </tbody>\n",
       "</table>\n",
       "<p>200 rows × 3 columns</p>\n",
       "</div>"
      ],
      "text/plain": [
       "      id     _duplicate_class  _cluster_id\n",
       "0      0  retention candidate            3\n",
       "1      1  retention candidate           27\n",
       "2     10  retention candidate           16\n",
       "3    100   deletion candidate            0\n",
       "4    101   deletion candidate            1\n",
       "..   ...                  ...          ...\n",
       "195   95   deletion candidate            2\n",
       "196   96   deletion candidate            1\n",
       "197   97   deletion candidate            0\n",
       "198   98   deletion candidate            7\n",
       "199   99            singleton           61\n",
       "\n",
       "[200 rows x 3 columns]"
      ]
     },
     "execution_count": 28,
     "metadata": {},
     "output_type": "execute_result"
    }
   ],
   "source": [
    "proj.maps[0].duplicates.df\n"
   ]
  },
  {
   "attachments": {},
   "cell_type": "markdown",
   "metadata": {},
   "source": [
    "## A list of potential deletion candidates is available at the `deletion_candidates` attribute."
   ]
  },
  {
   "cell_type": "code",
   "execution_count": 29,
   "metadata": {},
   "outputs": [
    {
     "data": {
      "text/plain": [
       "['100',\n",
       " '101',\n",
       " '103',\n",
       " '106',\n",
       " '107',\n",
       " '108',\n",
       " '111',\n",
       " '113',\n",
       " '114',\n",
       " '116',\n",
       " '120',\n",
       " '122',\n",
       " '123',\n",
       " '126',\n",
       " '127',\n",
       " '128',\n",
       " '129',\n",
       " '130',\n",
       " '131',\n",
       " '135',\n",
       " '136',\n",
       " '139',\n",
       " '141',\n",
       " '142',\n",
       " '143',\n",
       " '144',\n",
       " '145',\n",
       " '146',\n",
       " '147',\n",
       " '149',\n",
       " '150',\n",
       " '151',\n",
       " '153',\n",
       " '154',\n",
       " '156',\n",
       " '158',\n",
       " '159',\n",
       " '16',\n",
       " '161',\n",
       " '163',\n",
       " '165',\n",
       " '169',\n",
       " '170',\n",
       " '171',\n",
       " '172',\n",
       " '173',\n",
       " '174',\n",
       " '177',\n",
       " '18',\n",
       " '181',\n",
       " '182',\n",
       " '185',\n",
       " '186',\n",
       " '189',\n",
       " '190',\n",
       " '191',\n",
       " '192',\n",
       " '194',\n",
       " '195',\n",
       " '197',\n",
       " '198',\n",
       " '199',\n",
       " '20',\n",
       " '22',\n",
       " '23',\n",
       " '24',\n",
       " '25',\n",
       " '27',\n",
       " '28',\n",
       " '29',\n",
       " '3',\n",
       " '30',\n",
       " '32',\n",
       " '33',\n",
       " '35',\n",
       " '39',\n",
       " '40',\n",
       " '42',\n",
       " '43',\n",
       " '44',\n",
       " '45',\n",
       " '46',\n",
       " '47',\n",
       " '48',\n",
       " '49',\n",
       " '50',\n",
       " '51',\n",
       " '52',\n",
       " '53',\n",
       " '54',\n",
       " '55',\n",
       " '56',\n",
       " '57',\n",
       " '58',\n",
       " '59',\n",
       " '6',\n",
       " '60',\n",
       " '62',\n",
       " '64',\n",
       " '65',\n",
       " '67',\n",
       " '69',\n",
       " '7',\n",
       " '70',\n",
       " '71',\n",
       " '72',\n",
       " '73',\n",
       " '74',\n",
       " '75',\n",
       " '77',\n",
       " '78',\n",
       " '8',\n",
       " '80',\n",
       " '82',\n",
       " '83',\n",
       " '87',\n",
       " '88',\n",
       " '9',\n",
       " '94',\n",
       " '95',\n",
       " '96',\n",
       " '97',\n",
       " '98']"
      ]
     },
     "execution_count": 29,
     "metadata": {},
     "output_type": "execute_result"
    }
   ],
   "source": [
    "proj.maps[0].duplicates.deletion_candidates()"
   ]
  },
  {
   "cell_type": "code",
   "execution_count": null,
   "metadata": {},
   "outputs": [],
   "source": []
  },
  {
   "attachments": {},
   "cell_type": "markdown",
   "metadata": {},
   "source": [
    "For more complicated operations, use pandas or pyarrow methods to iterate over the data.\n",
    "Here, for instance, are the largest clusters. "
   ]
  },
  {
   "cell_type": "code",
   "execution_count": 45,
   "metadata": {},
   "outputs": [
    {
     "name": "stdout",
     "output_type": "stream",
     "text": [
      "CLUSTER ID: 8\n",
      "   Once upon a time, John lived with their spouse Harrison.   John prayed for apples in the kitchen.   Harrison sat in the kitchen and ate .   Before they finished, a bear burst in and ate them.   \n",
      "   Once upon a time, John lived with their spouse Harrison.   John prayed for bananas in the kitchen.   Harrison sat in the kitchen and ate apples.   Before they finished, a bear burst in and ate them.   \n",
      "   Once upon a time, John lived with their spouse Harrison.   John ate the cake in the bathroom.   Harrison sat in the bathroom and loved bananas.   Before they finished, a bear burst in and ate them.   \n",
      "   Once upon a time, John lived with their spouse Harrison.   John prayed for bananas in the kitchen.   Harrison sat in the kitchen and ate the cake.   Before they finished, a bear burst in and ate them.   \n",
      "CLUSTER ID: 17\n",
      "   Once upon a time, Harrison lived with their spouse Mary.   Harrison prayed for apples in the garden.   Mary sat in the garden and ate apples.   Before they finished, a bear burst in and ate them.   \n",
      "   Once upon a time, Harrison lived with their spouse Mary.   Harrison prayed for bananas in the bathroom.   Mary sat in the bathroom and prayed for apples.   Before they finished, a bear burst in and ate them.   \n",
      "   Once upon a time, Harrison lived with their spouse Mary.   Harrison ate apples in the living room.   Mary sat in the living room and prayed for the cake.   Before they finished, a bear burst in and ate them.   \n",
      "CLUSTER ID: 26\n",
      "   Once upon a time, Micah lived with their spouse Alice.   Micah ate the cake in the kitchen.   Alice sat in the kitchen and ate .   They all lived happily ever after.   \n",
      "   Once upon a time, Micah lived with their spouse Alice.   Micah ate the cake in the kitchen.   Alice sat in the kitchen and ate apples.   Everyone lived happily ever after.   \n",
      "CLUSTER ID: 35\n",
      "   Once upon a time, Micah lived with their spouse Mary.   Micah ate bananas in the living room.   Mary sat in the living room and loved the cake.   Before they finished, a bear burst in and ate them.   \n",
      "CLUSTER ID: 44\n",
      "   Once upon a time, John lived with their spouse Mary.   John prayed for apples in the kitchen.   Mary sat in the kitchen and ate spaghetti.   They all lived happily ever after.   \n",
      "CLUSTER ID: 53\n",
      "   Once upon a time, Alice lived with their child Mary.   Alice ate  in the living room.   Mary sat in the living room and prayed for bananas.   Before they finished, a bear burst in and ate them.   \n",
      "CLUSTER ID: 62\n",
      "   Once upon a time, John lived with their child Harrison.   John loved apples in the kitchen.   Harrison sat in the kitchen and loved apples.   Before they finished, a bear burst in and ate them.   \n",
      "CLUSTER ID: 71\n",
      "   Once upon a time, Mary lived with their child John.   Mary prayed for bananas in the kitchen.   John sat in the kitchen and prayed for bananas.   Before they finished, a bear burst in and ate them.   \n"
     ]
    }
   ],
   "source": [
    "for id, group in proj.maps[0].duplicates.df.groupby('_cluster_id'):\n",
    "    if int(id) % 9 != 8:\n",
    "        continue\n",
    "    print(\"CLUSTER ID:\", id)\n",
    "    for i, row in group.iterrows():\n",
    "        story = stories[int(row['id'])]['story'].replace(\"\\n\", \" \")\n",
    "        print(f'{story}')\n"
   ]
  },
  {
   "cell_type": "code",
   "execution_count": 40,
   "metadata": {},
   "outputs": [
    {
     "data": {
      "text/plain": [
       "76"
      ]
     },
     "execution_count": 40,
     "metadata": {},
     "output_type": "execute_result"
    }
   ],
   "source": [
    "id"
   ]
  },
  {
   "cell_type": "code",
   "execution_count": null,
   "metadata": {},
   "outputs": [],
   "source": []
  }
 ],
 "metadata": {
  "kernelspec": {
   "display_name": "nomic",
   "language": "python",
   "name": "python3"
  },
  "language_info": {
   "codemirror_mode": {
    "name": "ipython",
    "version": 3
   },
   "file_extension": ".py",
   "mimetype": "text/x-python",
   "name": "python",
   "nbconvert_exporter": "python",
   "pygments_lexer": "ipython3",
   "version": "3.9.15"
  },
  "orig_nbformat": 4
 },
 "nbformat": 4,
 "nbformat_minor": 2
}
