{
 "cells": [
  {
   "attachments": {},
   "cell_type": "markdown",
   "metadata": {},
   "source": [
    "## Duplicate Detection\n",
    "\n",
    "Atlas can automatically infer the presence of duplicates in your dataset based on textual\n",
    "similarity. "
   ]
  },
  {
   "cell_type": "code",
   "execution_count": 3,
   "metadata": {},
   "outputs": [],
   "source": [
    "import random\n",
    "def story():\n",
    "  # Procedurally generate a short story.\n",
    "  characters = ['John', 'Mary', 'Alice', 'John', 'Micah', 'Harrison']\n",
    "  places = ['the kitchen', 'the living room', 'the garden', 'the bathroom', 'the kitchen', 'the kitchen']\n",
    "  verbs = ['ate', 'prayed for', 'loved', 'ate', 'ate', 'ate']\n",
    "  objects = ['apples', 'bananas', 'spaghetti', 'the cake', 'apples', 'bananas', '']\n",
    "  relationships = ['spouse', 'spouse', 'child', 'child']\n",
    "  conclusions = [\n",
    "    'Before they finished, a bear burst in and ate them.',\n",
    "    'Everyone lived happily ever after.',\n",
    "    'They all lived happily ever after.',\n",
    "  ]\n",
    "  char1 = random.choice(characters)\n",
    "  char2 = random.choice(characters)\n",
    "  while char1 == char2:\n",
    "    char2 = random.choice(characters)\n",
    "  place = random.choice(places)\n",
    "  verb1 = random.choice(verbs)\n",
    "  verb2 = random.choice(verbs)\n",
    "  relation = random.choice(relationships)\n",
    "\n",
    "  story = f\"\"\"\n",
    "  Once upon a time, {char1} lived with their {relation} {char2}.\n",
    "  {char1} {verb1} {random.choice(objects)} in {place}.\n",
    "  {char2} sat in {place} and {verb2} {random.choice(objects)}.\n",
    "  {random.choice(conclusions)}\n",
    "  \"\"\"\n",
    "  return story\n",
    "\n",
    "stories = [\n",
    "  {\"id\": str(i), \"story\": story()} for i in range(200)\n",
    "]    "
   ]
  },
  {
   "cell_type": "code",
   "execution_count": 4,
   "metadata": {},
   "outputs": [
    {
     "name": "stderr",
     "output_type": "stream",
     "text": [
      "2023-06-18 23:34:47.888 | INFO     | nomic.project:_create_project:1116 - Creating project `possessive-orator` in organization `bmschmidt`\n",
      "2023-06-18 23:34:49.583 | INFO     | nomic.atlas:map_text:214 - Uploading text to Atlas.\n",
      "1it [00:06,  6.63s/it]\n",
      "2023-06-18 23:34:56.243 | INFO     | nomic.project:_add_data:1737 - Upload succeeded.\n",
      "2023-06-18 23:34:56.244 | INFO     | nomic.atlas:map_text:230 - Text upload succeeded.\n",
      "2023-06-18 23:34:57.494 | INFO     | nomic.project:create_index:1443 - Created map `possessive-orator` in project `possessive-orator`: https://atlas.nomic.ai/map/ec5d8391-2160-489e-aa1d-b73a1ca353e7/32046ef5-30ba-44ac-9b86-60e60c3b673d\n",
      "2023-06-18 23:34:57.495 | INFO     | nomic.atlas:map_text:246 - possessive-orator: https://atlas.nomic.ai/map/ec5d8391-2160-489e-aa1d-b73a1ca353e7/32046ef5-30ba-44ac-9b86-60e60c3b673d\n"
     ]
    }
   ],
   "source": [
    "from nomic import atlas\n",
    "proj = atlas.map_text(stories, indexed_field = 'story', duplicate_detection=True)"
   ]
  },
  {
   "cell_type": "code",
   "execution_count": 5,
   "metadata": {},
   "outputs": [
    {
     "data": {
      "text/plain": [
       "<contextlib._GeneratorContextManager at 0x15fee8be0>"
      ]
     },
     "execution_count": 5,
     "metadata": {},
     "output_type": "execute_result"
    }
   ],
   "source": [
    "proj.wait_for_project_lock()"
   ]
  },
  {
   "cell_type": "code",
   "execution_count": 7,
   "metadata": {},
   "outputs": [
    {
     "ename": "ArrowInvalid",
     "evalue": "Not a Feather V1 or Arrow IPC file",
     "output_type": "error",
     "traceback": [
      "\u001b[0;31m---------------------------------------------------------------------------\u001b[0m",
      "\u001b[0;31mArrowInvalid\u001b[0m                              Traceback (most recent call last)",
      "\u001b[1;32m/Users/ben/nomic/examples/duplicate_detection.ipynb Cell 5\u001b[0m in \u001b[0;36m1\n\u001b[0;32m----> <a href='vscode-notebook-cell:/Users/ben/nomic/examples/duplicate_detection.ipynb#W4sZmlsZQ%3D%3D?line=0'>1</a>\u001b[0m proj\u001b[39m.\u001b[39;49mmaps[\u001b[39m0\u001b[39;49m]\u001b[39m.\u001b[39;49mduplicates\n",
      "File \u001b[0;32m~/nomic/nomic/project.py:476\u001b[0m, in \u001b[0;36mAtlasProjection.duplicates\u001b[0;34m(self)\u001b[0m\n\u001b[1;32m    473\u001b[0m \u001b[39m@property\u001b[39m\n\u001b[1;32m    474\u001b[0m \u001b[39mdef\u001b[39;00m \u001b[39mduplicates\u001b[39m(\u001b[39mself\u001b[39m):\n\u001b[1;32m    475\u001b[0m     \u001b[39mif\u001b[39;00m \u001b[39mself\u001b[39m\u001b[39m.\u001b[39m_duplicates \u001b[39mis\u001b[39;00m \u001b[39mNone\u001b[39;00m:\n\u001b[0;32m--> 476\u001b[0m         \u001b[39mself\u001b[39m\u001b[39m.\u001b[39m_duplicates \u001b[39m=\u001b[39m AtlasDuplicates(\u001b[39mself\u001b[39;49m)\n\u001b[1;32m    477\u001b[0m     \u001b[39mreturn\u001b[39;00m \u001b[39mself\u001b[39m\u001b[39m.\u001b[39m_duplicates\n",
      "File \u001b[0;32m~/nomic/nomic/data_operations.py:12\u001b[0m, in \u001b[0;36mAtlasDuplicates.__init__\u001b[0;34m(self, projection)\u001b[0m\n\u001b[1;32m     10\u001b[0m \u001b[39mself\u001b[39m\u001b[39m.\u001b[39mprojection \u001b[39m=\u001b[39m projection\n\u001b[1;32m     11\u001b[0m \u001b[39mself\u001b[39m\u001b[39m.\u001b[39mid_field \u001b[39m=\u001b[39m \u001b[39mself\u001b[39m\u001b[39m.\u001b[39mprojection\u001b[39m.\u001b[39mproject\u001b[39m.\u001b[39mid_field\n\u001b[0;32m---> 12\u001b[0m \u001b[39mself\u001b[39m\u001b[39m.\u001b[39m_tb : pa\u001b[39m.\u001b[39mTable \u001b[39m=\u001b[39m projection\u001b[39m.\u001b[39;49m_fetch_tiles()\u001b[39m.\u001b[39mselect([\u001b[39mself\u001b[39m\u001b[39m.\u001b[39mid_field, \u001b[39m'\u001b[39m\u001b[39m_duplicate_class\u001b[39m\u001b[39m'\u001b[39m, \u001b[39m'\u001b[39m\u001b[39m_duplicate_cluster_id\u001b[39m\u001b[39m'\u001b[39m])\n",
      "File \u001b[0;32m~/nomic/nomic/project.py:491\u001b[0m, in \u001b[0;36mAtlasProjection._fetch_tiles\u001b[0;34m(self, overwrite)\u001b[0m\n\u001b[1;32m    489\u001b[0m \u001b[39mif\u001b[39;00m \u001b[39mself\u001b[39m\u001b[39m.\u001b[39m_tile_data \u001b[39mis\u001b[39;00m \u001b[39mnot\u001b[39;00m \u001b[39mNone\u001b[39;00m:\n\u001b[1;32m    490\u001b[0m     \u001b[39mreturn\u001b[39;00m \u001b[39mself\u001b[39m\u001b[39m.\u001b[39m_tile_data    \n\u001b[0;32m--> 491\u001b[0m \u001b[39mself\u001b[39;49m\u001b[39m.\u001b[39;49m_download_feather(overwrite\u001b[39m=\u001b[39;49moverwrite)\n\u001b[1;32m    492\u001b[0m tbs \u001b[39m=\u001b[39m []\n\u001b[1;32m    493\u001b[0m root \u001b[39m=\u001b[39m feather\u001b[39m.\u001b[39mread_table(\u001b[39mself\u001b[39m\u001b[39m.\u001b[39mtile_destination \u001b[39m/\u001b[39m \u001b[39m\"\u001b[39m\u001b[39m0/0/0.feather\u001b[39m\u001b[39m\"\u001b[39m)\n",
      "File \u001b[0;32m~/nomic/nomic/project.py:540\u001b[0m, in \u001b[0;36mAtlasProjection._download_feather\u001b[0;34m(self, dest, overwrite)\u001b[0m\n\u001b[1;32m    538\u001b[0m readable \u001b[39m=\u001b[39m io\u001b[39m.\u001b[39mBytesIO(data\u001b[39m.\u001b[39mcontent)\n\u001b[1;32m    539\u001b[0m readable\u001b[39m.\u001b[39mseek(\u001b[39m0\u001b[39m)\n\u001b[0;32m--> 540\u001b[0m tb \u001b[39m=\u001b[39m feather\u001b[39m.\u001b[39;49mread_table(readable)\n\u001b[1;32m    541\u001b[0m path\u001b[39m.\u001b[39mparent\u001b[39m.\u001b[39mmkdir(parents\u001b[39m=\u001b[39m\u001b[39mTrue\u001b[39;00m, exist_ok\u001b[39m=\u001b[39m\u001b[39mTrue\u001b[39;00m)\n\u001b[1;32m    542\u001b[0m feather\u001b[39m.\u001b[39mwrite_feather(tb, path)\n",
      "File \u001b[0;32m/opt/miniconda3/envs/nomic/lib/python3.9/site-packages/pyarrow/feather.py:252\u001b[0m, in \u001b[0;36mread_table\u001b[0;34m(source, columns, memory_map, use_threads)\u001b[0m\n\u001b[1;32m    231\u001b[0m \u001b[39mdef\u001b[39;00m \u001b[39mread_table\u001b[39m(source, columns\u001b[39m=\u001b[39m\u001b[39mNone\u001b[39;00m, memory_map\u001b[39m=\u001b[39m\u001b[39mFalse\u001b[39;00m, use_threads\u001b[39m=\u001b[39m\u001b[39mTrue\u001b[39;00m):\n\u001b[1;32m    232\u001b[0m     \u001b[39m\"\"\"\u001b[39;00m\n\u001b[1;32m    233\u001b[0m \u001b[39m    Read a pyarrow.Table from Feather format\u001b[39;00m\n\u001b[1;32m    234\u001b[0m \n\u001b[0;32m   (...)\u001b[0m\n\u001b[1;32m    250\u001b[0m \u001b[39m        The contents of the Feather file as a pyarrow.Table\u001b[39;00m\n\u001b[1;32m    251\u001b[0m \u001b[39m    \"\"\"\u001b[39;00m\n\u001b[0;32m--> 252\u001b[0m     reader \u001b[39m=\u001b[39m _feather\u001b[39m.\u001b[39;49mFeatherReader(\n\u001b[1;32m    253\u001b[0m         source, use_memory_map\u001b[39m=\u001b[39;49mmemory_map, use_threads\u001b[39m=\u001b[39;49muse_threads)\n\u001b[1;32m    255\u001b[0m     \u001b[39mif\u001b[39;00m columns \u001b[39mis\u001b[39;00m \u001b[39mNone\u001b[39;00m:\n\u001b[1;32m    256\u001b[0m         \u001b[39mreturn\u001b[39;00m reader\u001b[39m.\u001b[39mread()\n",
      "File \u001b[0;32m/opt/miniconda3/envs/nomic/lib/python3.9/site-packages/pyarrow/_feather.pyx:79\u001b[0m, in \u001b[0;36mpyarrow._feather.FeatherReader.__cinit__\u001b[0;34m()\u001b[0m\n",
      "File \u001b[0;32m/opt/miniconda3/envs/nomic/lib/python3.9/site-packages/pyarrow/error.pxi:144\u001b[0m, in \u001b[0;36mpyarrow.lib.pyarrow_internal_check_status\u001b[0;34m()\u001b[0m\n",
      "File \u001b[0;32m/opt/miniconda3/envs/nomic/lib/python3.9/site-packages/pyarrow/error.pxi:100\u001b[0m, in \u001b[0;36mpyarrow.lib.check_status\u001b[0;34m()\u001b[0m\n",
      "\u001b[0;31mArrowInvalid\u001b[0m: Not a Feather V1 or Arrow IPC file"
     ]
    }
   ],
   "source": [
    "proj.maps[0].duplicates"
   ]
  },
  {
   "cell_type": "code",
   "execution_count": null,
   "metadata": {},
   "outputs": [],
   "source": []
  }
 ],
 "metadata": {
  "kernelspec": {
   "display_name": "nomic",
   "language": "python",
   "name": "python3"
  },
  "language_info": {
   "codemirror_mode": {
    "name": "ipython",
    "version": 3
   },
   "file_extension": ".py",
   "mimetype": "text/x-python",
   "name": "python",
   "nbconvert_exporter": "python",
   "pygments_lexer": "ipython3",
   "version": "3.9.15"
  },
  "orig_nbformat": 4
 },
 "nbformat": 4,
 "nbformat_minor": 2
}
